{
  "cells": [
    {
      "cell_type": "markdown",
      "metadata": {
        "id": "view-in-github",
        "colab_type": "text"
      },
      "source": [
        "<a href=\"https://colab.research.google.com/github/MitchMessier/BusinessAnalytics/blob/main/Lab7_Retailer_EDA2_Messier_Mitch.ipynb\" target=\"_parent\"><img src=\"https://colab.research.google.com/assets/colab-badge.svg\" alt=\"Open In Colab\"/></a>"
      ]
    },
    {
      "cell_type": "markdown",
      "metadata": {
        "id": "DJrG2O6N7xM9"
      },
      "source": [
        "# IS 4487 Lab 7\n",
        "\n",
        "## Outline\n",
        "\n",
        "Begin where you left on in Lab 6 with the *SuperStore Retail Orders* dataset\n",
        "\n",
        "<a href=\"https://colab.research.google.com/github/Stan-Pugsley/is_4487_base/blob/main/Labs/Scripts/lab7_retailer_eda2.ipynb\" target=\"_parent\"><img src=\"https://colab.research.google.com/assets/colab-badge.svg\" alt=\"Open In Colab\"/></a>"
      ]
    },
    {
      "cell_type": "markdown",
      "metadata": {
        "id": "oIMhMVNz7xM_"
      },
      "source": [
        "## Load Libraries\n",
        "\n",
        "➡️ Assignment Tasks\n",
        "- Load any necessary libraries"
      ]
    },
    {
      "cell_type": "code",
      "execution_count": 192,
      "metadata": {
        "vscode": {
          "languageId": "plaintext"
        },
        "id": "WfxFtbbP7xNA"
      },
      "outputs": [],
      "source": [
        "import pandas as pd\n",
        "import matplotlib as mpl\n",
        "import sklearn as sl\n",
        "import seaborn as sns\n",
        "import matplotlib.pyplot as plt\n",
        "import numpy as np"
      ]
    },
    {
      "cell_type": "markdown",
      "metadata": {
        "id": "T_-M5Dj17xNB"
      },
      "source": [
        "## Import Data into Dataframe\n",
        "\n",
        "➡️ Assignment Tasks\n",
        "- Import data from the SuperStore retail dataset into a dataframe (in GitHub go to Labs > DataSets)\n",
        "- Describe or profile the dataframe"
      ]
    },
    {
      "cell_type": "code",
      "execution_count": 193,
      "metadata": {
        "vscode": {
          "languageId": "plaintext"
        },
        "id": "iDDFMRbG7xNB",
        "colab": {
          "base_uri": "https://localhost:8080/"
        },
        "outputId": "93f5c11d-cdc0-4b54-d4f7-e418379ea3a8"
      },
      "outputs": [
        {
          "output_type": "stream",
          "name": "stdout",
          "text": [
            "Mounted at /content/gdrive\n"
          ]
        }
      ],
      "source": [
        "from google.colab import drive\n",
        "drive.mount('/content/gdrive', force_remount=True)"
      ]
    },
    {
      "cell_type": "code",
      "source": [
        "df = pd.read_csv('/content/gdrive/MyDrive/Colab Notebooks/superstore_retail_orders.csv')"
      ],
      "metadata": {
        "id": "sAjfIWUG94gK"
      },
      "execution_count": 194,
      "outputs": []
    },
    {
      "cell_type": "code",
      "source": [
        "df.head()"
      ],
      "metadata": {
        "colab": {
          "base_uri": "https://localhost:8080/",
          "height": 278
        },
        "id": "exABZFti_GJl",
        "outputId": "f52e1ba1-9b2d-4d26-ccf0-ba2768ece446"
      },
      "execution_count": 195,
      "outputs": [
        {
          "output_type": "execute_result",
          "data": {
            "text/plain": [
              "   customer_id      customer_name        address_line_1        city  \\\n",
              "0           67      Gordy Matteau   59 Northland Circle  Wilmington   \n",
              "1          201     Cort Paskerful       769 Buell Drive  Huntsville   \n",
              "2           45    Willetta Lumley     41 Ridgeway Alley      Irvine   \n",
              "3          106   Alison Batterton         489 Erie Hill    Richmond   \n",
              "4          357  Martelle Paxeford  451 Manitowish Place    Richmond   \n",
              "\n",
              "  state_province  postal_code  order_id  order_date  customer_id.1  \\\n",
              "0            DE       19805.0      1001  2020-01-11             67   \n",
              "1            AL       35810.0      1002  2019-11-22            201   \n",
              "2            CA       92612.0      1003  2019-09-17             45   \n",
              "3            VA       23293.0      1004  2019-12-09            106   \n",
              "4            VA       23293.0      1005  2019-06-08            357   \n",
              "\n",
              "   order_id.1  product_id  quantity  product_id.1       product_name  \\\n",
              "0        1001         106       3.0           106  Great value Juice   \n",
              "1        1002         104       2.0           104               Desk   \n",
              "2        1003         107       5.0           107     Dove deodorant   \n",
              "3        1004         106       8.0           106  Great value Juice   \n",
              "4        1005         107       7.0           107     Dove deodorant   \n",
              "\n",
              "  product_price total_amount order_year_month order_month  \n",
              "0         $1.99        $5.97          2020-01    January   \n",
              "1        $85.98      $171.96          2019-11   November   \n",
              "2         $3.99       $19.95          2019-09   September  \n",
              "3         $1.99       $15.92          2019-12   December   \n",
              "4         $3.99       $27.93          2019-06       June   "
            ],
            "text/html": [
              "\n",
              "  <div id=\"df-25ecbbf2-f38e-4367-a608-32ae25341bb8\" class=\"colab-df-container\">\n",
              "    <div>\n",
              "<style scoped>\n",
              "    .dataframe tbody tr th:only-of-type {\n",
              "        vertical-align: middle;\n",
              "    }\n",
              "\n",
              "    .dataframe tbody tr th {\n",
              "        vertical-align: top;\n",
              "    }\n",
              "\n",
              "    .dataframe thead th {\n",
              "        text-align: right;\n",
              "    }\n",
              "</style>\n",
              "<table border=\"1\" class=\"dataframe\">\n",
              "  <thead>\n",
              "    <tr style=\"text-align: right;\">\n",
              "      <th></th>\n",
              "      <th>customer_id</th>\n",
              "      <th>customer_name</th>\n",
              "      <th>address_line_1</th>\n",
              "      <th>city</th>\n",
              "      <th>state_province</th>\n",
              "      <th>postal_code</th>\n",
              "      <th>order_id</th>\n",
              "      <th>order_date</th>\n",
              "      <th>customer_id.1</th>\n",
              "      <th>order_id.1</th>\n",
              "      <th>product_id</th>\n",
              "      <th>quantity</th>\n",
              "      <th>product_id.1</th>\n",
              "      <th>product_name</th>\n",
              "      <th>product_price</th>\n",
              "      <th>total_amount</th>\n",
              "      <th>order_year_month</th>\n",
              "      <th>order_month</th>\n",
              "    </tr>\n",
              "  </thead>\n",
              "  <tbody>\n",
              "    <tr>\n",
              "      <th>0</th>\n",
              "      <td>67</td>\n",
              "      <td>Gordy Matteau</td>\n",
              "      <td>59 Northland Circle</td>\n",
              "      <td>Wilmington</td>\n",
              "      <td>DE</td>\n",
              "      <td>19805.0</td>\n",
              "      <td>1001</td>\n",
              "      <td>2020-01-11</td>\n",
              "      <td>67</td>\n",
              "      <td>1001</td>\n",
              "      <td>106</td>\n",
              "      <td>3.0</td>\n",
              "      <td>106</td>\n",
              "      <td>Great value Juice</td>\n",
              "      <td>$1.99</td>\n",
              "      <td>$5.97</td>\n",
              "      <td>2020-01</td>\n",
              "      <td>January</td>\n",
              "    </tr>\n",
              "    <tr>\n",
              "      <th>1</th>\n",
              "      <td>201</td>\n",
              "      <td>Cort Paskerful</td>\n",
              "      <td>769 Buell Drive</td>\n",
              "      <td>Huntsville</td>\n",
              "      <td>AL</td>\n",
              "      <td>35810.0</td>\n",
              "      <td>1002</td>\n",
              "      <td>2019-11-22</td>\n",
              "      <td>201</td>\n",
              "      <td>1002</td>\n",
              "      <td>104</td>\n",
              "      <td>2.0</td>\n",
              "      <td>104</td>\n",
              "      <td>Desk</td>\n",
              "      <td>$85.98</td>\n",
              "      <td>$171.96</td>\n",
              "      <td>2019-11</td>\n",
              "      <td>November</td>\n",
              "    </tr>\n",
              "    <tr>\n",
              "      <th>2</th>\n",
              "      <td>45</td>\n",
              "      <td>Willetta Lumley</td>\n",
              "      <td>41 Ridgeway Alley</td>\n",
              "      <td>Irvine</td>\n",
              "      <td>CA</td>\n",
              "      <td>92612.0</td>\n",
              "      <td>1003</td>\n",
              "      <td>2019-09-17</td>\n",
              "      <td>45</td>\n",
              "      <td>1003</td>\n",
              "      <td>107</td>\n",
              "      <td>5.0</td>\n",
              "      <td>107</td>\n",
              "      <td>Dove deodorant</td>\n",
              "      <td>$3.99</td>\n",
              "      <td>$19.95</td>\n",
              "      <td>2019-09</td>\n",
              "      <td>September</td>\n",
              "    </tr>\n",
              "    <tr>\n",
              "      <th>3</th>\n",
              "      <td>106</td>\n",
              "      <td>Alison Batterton</td>\n",
              "      <td>489 Erie Hill</td>\n",
              "      <td>Richmond</td>\n",
              "      <td>VA</td>\n",
              "      <td>23293.0</td>\n",
              "      <td>1004</td>\n",
              "      <td>2019-12-09</td>\n",
              "      <td>106</td>\n",
              "      <td>1004</td>\n",
              "      <td>106</td>\n",
              "      <td>8.0</td>\n",
              "      <td>106</td>\n",
              "      <td>Great value Juice</td>\n",
              "      <td>$1.99</td>\n",
              "      <td>$15.92</td>\n",
              "      <td>2019-12</td>\n",
              "      <td>December</td>\n",
              "    </tr>\n",
              "    <tr>\n",
              "      <th>4</th>\n",
              "      <td>357</td>\n",
              "      <td>Martelle Paxeford</td>\n",
              "      <td>451 Manitowish Place</td>\n",
              "      <td>Richmond</td>\n",
              "      <td>VA</td>\n",
              "      <td>23293.0</td>\n",
              "      <td>1005</td>\n",
              "      <td>2019-06-08</td>\n",
              "      <td>357</td>\n",
              "      <td>1005</td>\n",
              "      <td>107</td>\n",
              "      <td>7.0</td>\n",
              "      <td>107</td>\n",
              "      <td>Dove deodorant</td>\n",
              "      <td>$3.99</td>\n",
              "      <td>$27.93</td>\n",
              "      <td>2019-06</td>\n",
              "      <td>June</td>\n",
              "    </tr>\n",
              "  </tbody>\n",
              "</table>\n",
              "</div>\n",
              "    <div class=\"colab-df-buttons\">\n",
              "\n",
              "  <div class=\"colab-df-container\">\n",
              "    <button class=\"colab-df-convert\" onclick=\"convertToInteractive('df-25ecbbf2-f38e-4367-a608-32ae25341bb8')\"\n",
              "            title=\"Convert this dataframe to an interactive table.\"\n",
              "            style=\"display:none;\">\n",
              "\n",
              "  <svg xmlns=\"http://www.w3.org/2000/svg\" height=\"24px\" viewBox=\"0 -960 960 960\">\n",
              "    <path d=\"M120-120v-720h720v720H120Zm60-500h600v-160H180v160Zm220 220h160v-160H400v160Zm0 220h160v-160H400v160ZM180-400h160v-160H180v160Zm440 0h160v-160H620v160ZM180-180h160v-160H180v160Zm440 0h160v-160H620v160Z\"/>\n",
              "  </svg>\n",
              "    </button>\n",
              "\n",
              "  <style>\n",
              "    .colab-df-container {\n",
              "      display:flex;\n",
              "      gap: 12px;\n",
              "    }\n",
              "\n",
              "    .colab-df-convert {\n",
              "      background-color: #E8F0FE;\n",
              "      border: none;\n",
              "      border-radius: 50%;\n",
              "      cursor: pointer;\n",
              "      display: none;\n",
              "      fill: #1967D2;\n",
              "      height: 32px;\n",
              "      padding: 0 0 0 0;\n",
              "      width: 32px;\n",
              "    }\n",
              "\n",
              "    .colab-df-convert:hover {\n",
              "      background-color: #E2EBFA;\n",
              "      box-shadow: 0px 1px 2px rgba(60, 64, 67, 0.3), 0px 1px 3px 1px rgba(60, 64, 67, 0.15);\n",
              "      fill: #174EA6;\n",
              "    }\n",
              "\n",
              "    .colab-df-buttons div {\n",
              "      margin-bottom: 4px;\n",
              "    }\n",
              "\n",
              "    [theme=dark] .colab-df-convert {\n",
              "      background-color: #3B4455;\n",
              "      fill: #D2E3FC;\n",
              "    }\n",
              "\n",
              "    [theme=dark] .colab-df-convert:hover {\n",
              "      background-color: #434B5C;\n",
              "      box-shadow: 0px 1px 3px 1px rgba(0, 0, 0, 0.15);\n",
              "      filter: drop-shadow(0px 1px 2px rgba(0, 0, 0, 0.3));\n",
              "      fill: #FFFFFF;\n",
              "    }\n",
              "  </style>\n",
              "\n",
              "    <script>\n",
              "      const buttonEl =\n",
              "        document.querySelector('#df-25ecbbf2-f38e-4367-a608-32ae25341bb8 button.colab-df-convert');\n",
              "      buttonEl.style.display =\n",
              "        google.colab.kernel.accessAllowed ? 'block' : 'none';\n",
              "\n",
              "      async function convertToInteractive(key) {\n",
              "        const element = document.querySelector('#df-25ecbbf2-f38e-4367-a608-32ae25341bb8');\n",
              "        const dataTable =\n",
              "          await google.colab.kernel.invokeFunction('convertToInteractive',\n",
              "                                                    [key], {});\n",
              "        if (!dataTable) return;\n",
              "\n",
              "        const docLinkHtml = 'Like what you see? Visit the ' +\n",
              "          '<a target=\"_blank\" href=https://colab.research.google.com/notebooks/data_table.ipynb>data table notebook</a>'\n",
              "          + ' to learn more about interactive tables.';\n",
              "        element.innerHTML = '';\n",
              "        dataTable['output_type'] = 'display_data';\n",
              "        await google.colab.output.renderOutput(dataTable, element);\n",
              "        const docLink = document.createElement('div');\n",
              "        docLink.innerHTML = docLinkHtml;\n",
              "        element.appendChild(docLink);\n",
              "      }\n",
              "    </script>\n",
              "  </div>\n",
              "\n",
              "\n",
              "<div id=\"df-3ad5bdf7-8bc2-42b1-96f5-d7d67d3e0e3a\">\n",
              "  <button class=\"colab-df-quickchart\" onclick=\"quickchart('df-3ad5bdf7-8bc2-42b1-96f5-d7d67d3e0e3a')\"\n",
              "            title=\"Suggest charts\"\n",
              "            style=\"display:none;\">\n",
              "\n",
              "<svg xmlns=\"http://www.w3.org/2000/svg\" height=\"24px\"viewBox=\"0 0 24 24\"\n",
              "     width=\"24px\">\n",
              "    <g>\n",
              "        <path d=\"M19 3H5c-1.1 0-2 .9-2 2v14c0 1.1.9 2 2 2h14c1.1 0 2-.9 2-2V5c0-1.1-.9-2-2-2zM9 17H7v-7h2v7zm4 0h-2V7h2v10zm4 0h-2v-4h2v4z\"/>\n",
              "    </g>\n",
              "</svg>\n",
              "  </button>\n",
              "\n",
              "<style>\n",
              "  .colab-df-quickchart {\n",
              "      --bg-color: #E8F0FE;\n",
              "      --fill-color: #1967D2;\n",
              "      --hover-bg-color: #E2EBFA;\n",
              "      --hover-fill-color: #174EA6;\n",
              "      --disabled-fill-color: #AAA;\n",
              "      --disabled-bg-color: #DDD;\n",
              "  }\n",
              "\n",
              "  [theme=dark] .colab-df-quickchart {\n",
              "      --bg-color: #3B4455;\n",
              "      --fill-color: #D2E3FC;\n",
              "      --hover-bg-color: #434B5C;\n",
              "      --hover-fill-color: #FFFFFF;\n",
              "      --disabled-bg-color: #3B4455;\n",
              "      --disabled-fill-color: #666;\n",
              "  }\n",
              "\n",
              "  .colab-df-quickchart {\n",
              "    background-color: var(--bg-color);\n",
              "    border: none;\n",
              "    border-radius: 50%;\n",
              "    cursor: pointer;\n",
              "    display: none;\n",
              "    fill: var(--fill-color);\n",
              "    height: 32px;\n",
              "    padding: 0;\n",
              "    width: 32px;\n",
              "  }\n",
              "\n",
              "  .colab-df-quickchart:hover {\n",
              "    background-color: var(--hover-bg-color);\n",
              "    box-shadow: 0 1px 2px rgba(60, 64, 67, 0.3), 0 1px 3px 1px rgba(60, 64, 67, 0.15);\n",
              "    fill: var(--button-hover-fill-color);\n",
              "  }\n",
              "\n",
              "  .colab-df-quickchart-complete:disabled,\n",
              "  .colab-df-quickchart-complete:disabled:hover {\n",
              "    background-color: var(--disabled-bg-color);\n",
              "    fill: var(--disabled-fill-color);\n",
              "    box-shadow: none;\n",
              "  }\n",
              "\n",
              "  .colab-df-spinner {\n",
              "    border: 2px solid var(--fill-color);\n",
              "    border-color: transparent;\n",
              "    border-bottom-color: var(--fill-color);\n",
              "    animation:\n",
              "      spin 1s steps(1) infinite;\n",
              "  }\n",
              "\n",
              "  @keyframes spin {\n",
              "    0% {\n",
              "      border-color: transparent;\n",
              "      border-bottom-color: var(--fill-color);\n",
              "      border-left-color: var(--fill-color);\n",
              "    }\n",
              "    20% {\n",
              "      border-color: transparent;\n",
              "      border-left-color: var(--fill-color);\n",
              "      border-top-color: var(--fill-color);\n",
              "    }\n",
              "    30% {\n",
              "      border-color: transparent;\n",
              "      border-left-color: var(--fill-color);\n",
              "      border-top-color: var(--fill-color);\n",
              "      border-right-color: var(--fill-color);\n",
              "    }\n",
              "    40% {\n",
              "      border-color: transparent;\n",
              "      border-right-color: var(--fill-color);\n",
              "      border-top-color: var(--fill-color);\n",
              "    }\n",
              "    60% {\n",
              "      border-color: transparent;\n",
              "      border-right-color: var(--fill-color);\n",
              "    }\n",
              "    80% {\n",
              "      border-color: transparent;\n",
              "      border-right-color: var(--fill-color);\n",
              "      border-bottom-color: var(--fill-color);\n",
              "    }\n",
              "    90% {\n",
              "      border-color: transparent;\n",
              "      border-bottom-color: var(--fill-color);\n",
              "    }\n",
              "  }\n",
              "</style>\n",
              "\n",
              "  <script>\n",
              "    async function quickchart(key) {\n",
              "      const quickchartButtonEl =\n",
              "        document.querySelector('#' + key + ' button');\n",
              "      quickchartButtonEl.disabled = true;  // To prevent multiple clicks.\n",
              "      quickchartButtonEl.classList.add('colab-df-spinner');\n",
              "      try {\n",
              "        const charts = await google.colab.kernel.invokeFunction(\n",
              "            'suggestCharts', [key], {});\n",
              "      } catch (error) {\n",
              "        console.error('Error during call to suggestCharts:', error);\n",
              "      }\n",
              "      quickchartButtonEl.classList.remove('colab-df-spinner');\n",
              "      quickchartButtonEl.classList.add('colab-df-quickchart-complete');\n",
              "    }\n",
              "    (() => {\n",
              "      let quickchartButtonEl =\n",
              "        document.querySelector('#df-3ad5bdf7-8bc2-42b1-96f5-d7d67d3e0e3a button');\n",
              "      quickchartButtonEl.style.display =\n",
              "        google.colab.kernel.accessAllowed ? 'block' : 'none';\n",
              "    })();\n",
              "  </script>\n",
              "</div>\n",
              "\n",
              "    </div>\n",
              "  </div>\n"
            ],
            "application/vnd.google.colaboratory.intrinsic+json": {
              "type": "dataframe",
              "variable_name": "df",
              "repr_error": "'str' object has no attribute 'empty'"
            }
          },
          "metadata": {},
          "execution_count": 195
        }
      ]
    },
    {
      "cell_type": "code",
      "source": [
        "df.info()"
      ],
      "metadata": {
        "colab": {
          "base_uri": "https://localhost:8080/"
        },
        "id": "ZchyGVnp_cju",
        "outputId": "81a741ee-cc4e-4cec-f5f2-5a422fb3a4b8"
      },
      "execution_count": 196,
      "outputs": [
        {
          "output_type": "stream",
          "name": "stdout",
          "text": [
            "<class 'pandas.core.frame.DataFrame'>\n",
            "RangeIndex: 9569 entries, 0 to 9568\n",
            "Data columns (total 18 columns):\n",
            " #   Column            Non-Null Count  Dtype  \n",
            "---  ------            --------------  -----  \n",
            " 0   customer_id       9569 non-null   int64  \n",
            " 1   customer_name     9569 non-null   object \n",
            " 2   address_line_1    9448 non-null   object \n",
            " 3   city              9516 non-null   object \n",
            " 4   state_province    9569 non-null   object \n",
            " 5   postal_code       9416 non-null   float64\n",
            " 6   order_id          9569 non-null   int64  \n",
            " 7   order_date        9312 non-null   object \n",
            " 8   customer_id.1     9569 non-null   int64  \n",
            " 9   order_id.1        9569 non-null   int64  \n",
            " 10  product_id        9569 non-null   int64  \n",
            " 11  quantity          9513 non-null   float64\n",
            " 12  product_id.1      9569 non-null   int64  \n",
            " 13  product_name      9569 non-null   object \n",
            " 14  product_price     9569 non-null   object \n",
            " 15  total_amount      9513 non-null   object \n",
            " 16  order_year_month  9312 non-null   object \n",
            " 17  order_month       9312 non-null   object \n",
            "dtypes: float64(2), int64(6), object(10)\n",
            "memory usage: 1.3+ MB\n"
          ]
        }
      ]
    },
    {
      "cell_type": "code",
      "source": [
        "df.describe()"
      ],
      "metadata": {
        "colab": {
          "base_uri": "https://localhost:8080/",
          "height": 300
        },
        "id": "k7fcThKg_euA",
        "outputId": "87c2b6ca-13e5-4a38-ec93-d669e2aef514"
      },
      "execution_count": 197,
      "outputs": [
        {
          "output_type": "execute_result",
          "data": {
            "text/plain": [
              "       customer_id   postal_code     order_id  customer_id.1   order_id.1  \\\n",
              "count  9569.000000   9416.000000  9569.000000    9569.000000  9569.000000   \n",
              "mean    282.910962  52225.007116  5107.539450     282.910962  5107.539450   \n",
              "std     199.763947  29619.544418  2043.449403     199.763947  2043.449403   \n",
              "min       1.000000   1105.000000  1001.000000       1.000000  1001.000000   \n",
              "25%     127.000000  27409.000000  3393.000000     127.000000  3393.000000   \n",
              "50%     253.000000  48295.000000  5577.000000     253.000000  5577.000000   \n",
              "75%     376.000000  79923.000000  6829.000000     376.000000  6829.000000   \n",
              "max     800.000000  99812.000000  8147.000000     800.000000  8147.000000   \n",
              "\n",
              "        product_id     quantity  product_id.1  \n",
              "count  9569.000000  9513.000000   9569.000000  \n",
              "mean    106.736650     3.453380    106.736650  \n",
              "std       3.694805     4.393894      3.694805  \n",
              "min     101.000000     1.000000    101.000000  \n",
              "25%     104.000000     1.000000    104.000000  \n",
              "50%     107.000000     1.000000    107.000000  \n",
              "75%     110.000000     4.000000    110.000000  \n",
              "max     114.000000    20.000000    114.000000  "
            ],
            "text/html": [
              "\n",
              "  <div id=\"df-0e7d7514-c903-4a96-b483-30e113e78c80\" class=\"colab-df-container\">\n",
              "    <div>\n",
              "<style scoped>\n",
              "    .dataframe tbody tr th:only-of-type {\n",
              "        vertical-align: middle;\n",
              "    }\n",
              "\n",
              "    .dataframe tbody tr th {\n",
              "        vertical-align: top;\n",
              "    }\n",
              "\n",
              "    .dataframe thead th {\n",
              "        text-align: right;\n",
              "    }\n",
              "</style>\n",
              "<table border=\"1\" class=\"dataframe\">\n",
              "  <thead>\n",
              "    <tr style=\"text-align: right;\">\n",
              "      <th></th>\n",
              "      <th>customer_id</th>\n",
              "      <th>postal_code</th>\n",
              "      <th>order_id</th>\n",
              "      <th>customer_id.1</th>\n",
              "      <th>order_id.1</th>\n",
              "      <th>product_id</th>\n",
              "      <th>quantity</th>\n",
              "      <th>product_id.1</th>\n",
              "    </tr>\n",
              "  </thead>\n",
              "  <tbody>\n",
              "    <tr>\n",
              "      <th>count</th>\n",
              "      <td>9569.000000</td>\n",
              "      <td>9416.000000</td>\n",
              "      <td>9569.000000</td>\n",
              "      <td>9569.000000</td>\n",
              "      <td>9569.000000</td>\n",
              "      <td>9569.000000</td>\n",
              "      <td>9513.000000</td>\n",
              "      <td>9569.000000</td>\n",
              "    </tr>\n",
              "    <tr>\n",
              "      <th>mean</th>\n",
              "      <td>282.910962</td>\n",
              "      <td>52225.007116</td>\n",
              "      <td>5107.539450</td>\n",
              "      <td>282.910962</td>\n",
              "      <td>5107.539450</td>\n",
              "      <td>106.736650</td>\n",
              "      <td>3.453380</td>\n",
              "      <td>106.736650</td>\n",
              "    </tr>\n",
              "    <tr>\n",
              "      <th>std</th>\n",
              "      <td>199.763947</td>\n",
              "      <td>29619.544418</td>\n",
              "      <td>2043.449403</td>\n",
              "      <td>199.763947</td>\n",
              "      <td>2043.449403</td>\n",
              "      <td>3.694805</td>\n",
              "      <td>4.393894</td>\n",
              "      <td>3.694805</td>\n",
              "    </tr>\n",
              "    <tr>\n",
              "      <th>min</th>\n",
              "      <td>1.000000</td>\n",
              "      <td>1105.000000</td>\n",
              "      <td>1001.000000</td>\n",
              "      <td>1.000000</td>\n",
              "      <td>1001.000000</td>\n",
              "      <td>101.000000</td>\n",
              "      <td>1.000000</td>\n",
              "      <td>101.000000</td>\n",
              "    </tr>\n",
              "    <tr>\n",
              "      <th>25%</th>\n",
              "      <td>127.000000</td>\n",
              "      <td>27409.000000</td>\n",
              "      <td>3393.000000</td>\n",
              "      <td>127.000000</td>\n",
              "      <td>3393.000000</td>\n",
              "      <td>104.000000</td>\n",
              "      <td>1.000000</td>\n",
              "      <td>104.000000</td>\n",
              "    </tr>\n",
              "    <tr>\n",
              "      <th>50%</th>\n",
              "      <td>253.000000</td>\n",
              "      <td>48295.000000</td>\n",
              "      <td>5577.000000</td>\n",
              "      <td>253.000000</td>\n",
              "      <td>5577.000000</td>\n",
              "      <td>107.000000</td>\n",
              "      <td>1.000000</td>\n",
              "      <td>107.000000</td>\n",
              "    </tr>\n",
              "    <tr>\n",
              "      <th>75%</th>\n",
              "      <td>376.000000</td>\n",
              "      <td>79923.000000</td>\n",
              "      <td>6829.000000</td>\n",
              "      <td>376.000000</td>\n",
              "      <td>6829.000000</td>\n",
              "      <td>110.000000</td>\n",
              "      <td>4.000000</td>\n",
              "      <td>110.000000</td>\n",
              "    </tr>\n",
              "    <tr>\n",
              "      <th>max</th>\n",
              "      <td>800.000000</td>\n",
              "      <td>99812.000000</td>\n",
              "      <td>8147.000000</td>\n",
              "      <td>800.000000</td>\n",
              "      <td>8147.000000</td>\n",
              "      <td>114.000000</td>\n",
              "      <td>20.000000</td>\n",
              "      <td>114.000000</td>\n",
              "    </tr>\n",
              "  </tbody>\n",
              "</table>\n",
              "</div>\n",
              "    <div class=\"colab-df-buttons\">\n",
              "\n",
              "  <div class=\"colab-df-container\">\n",
              "    <button class=\"colab-df-convert\" onclick=\"convertToInteractive('df-0e7d7514-c903-4a96-b483-30e113e78c80')\"\n",
              "            title=\"Convert this dataframe to an interactive table.\"\n",
              "            style=\"display:none;\">\n",
              "\n",
              "  <svg xmlns=\"http://www.w3.org/2000/svg\" height=\"24px\" viewBox=\"0 -960 960 960\">\n",
              "    <path d=\"M120-120v-720h720v720H120Zm60-500h600v-160H180v160Zm220 220h160v-160H400v160Zm0 220h160v-160H400v160ZM180-400h160v-160H180v160Zm440 0h160v-160H620v160ZM180-180h160v-160H180v160Zm440 0h160v-160H620v160Z\"/>\n",
              "  </svg>\n",
              "    </button>\n",
              "\n",
              "  <style>\n",
              "    .colab-df-container {\n",
              "      display:flex;\n",
              "      gap: 12px;\n",
              "    }\n",
              "\n",
              "    .colab-df-convert {\n",
              "      background-color: #E8F0FE;\n",
              "      border: none;\n",
              "      border-radius: 50%;\n",
              "      cursor: pointer;\n",
              "      display: none;\n",
              "      fill: #1967D2;\n",
              "      height: 32px;\n",
              "      padding: 0 0 0 0;\n",
              "      width: 32px;\n",
              "    }\n",
              "\n",
              "    .colab-df-convert:hover {\n",
              "      background-color: #E2EBFA;\n",
              "      box-shadow: 0px 1px 2px rgba(60, 64, 67, 0.3), 0px 1px 3px 1px rgba(60, 64, 67, 0.15);\n",
              "      fill: #174EA6;\n",
              "    }\n",
              "\n",
              "    .colab-df-buttons div {\n",
              "      margin-bottom: 4px;\n",
              "    }\n",
              "\n",
              "    [theme=dark] .colab-df-convert {\n",
              "      background-color: #3B4455;\n",
              "      fill: #D2E3FC;\n",
              "    }\n",
              "\n",
              "    [theme=dark] .colab-df-convert:hover {\n",
              "      background-color: #434B5C;\n",
              "      box-shadow: 0px 1px 3px 1px rgba(0, 0, 0, 0.15);\n",
              "      filter: drop-shadow(0px 1px 2px rgba(0, 0, 0, 0.3));\n",
              "      fill: #FFFFFF;\n",
              "    }\n",
              "  </style>\n",
              "\n",
              "    <script>\n",
              "      const buttonEl =\n",
              "        document.querySelector('#df-0e7d7514-c903-4a96-b483-30e113e78c80 button.colab-df-convert');\n",
              "      buttonEl.style.display =\n",
              "        google.colab.kernel.accessAllowed ? 'block' : 'none';\n",
              "\n",
              "      async function convertToInteractive(key) {\n",
              "        const element = document.querySelector('#df-0e7d7514-c903-4a96-b483-30e113e78c80');\n",
              "        const dataTable =\n",
              "          await google.colab.kernel.invokeFunction('convertToInteractive',\n",
              "                                                    [key], {});\n",
              "        if (!dataTable) return;\n",
              "\n",
              "        const docLinkHtml = 'Like what you see? Visit the ' +\n",
              "          '<a target=\"_blank\" href=https://colab.research.google.com/notebooks/data_table.ipynb>data table notebook</a>'\n",
              "          + ' to learn more about interactive tables.';\n",
              "        element.innerHTML = '';\n",
              "        dataTable['output_type'] = 'display_data';\n",
              "        await google.colab.output.renderOutput(dataTable, element);\n",
              "        const docLink = document.createElement('div');\n",
              "        docLink.innerHTML = docLinkHtml;\n",
              "        element.appendChild(docLink);\n",
              "      }\n",
              "    </script>\n",
              "  </div>\n",
              "\n",
              "\n",
              "<div id=\"df-da800391-443f-4596-98f6-5a52e338bc2b\">\n",
              "  <button class=\"colab-df-quickchart\" onclick=\"quickchart('df-da800391-443f-4596-98f6-5a52e338bc2b')\"\n",
              "            title=\"Suggest charts\"\n",
              "            style=\"display:none;\">\n",
              "\n",
              "<svg xmlns=\"http://www.w3.org/2000/svg\" height=\"24px\"viewBox=\"0 0 24 24\"\n",
              "     width=\"24px\">\n",
              "    <g>\n",
              "        <path d=\"M19 3H5c-1.1 0-2 .9-2 2v14c0 1.1.9 2 2 2h14c1.1 0 2-.9 2-2V5c0-1.1-.9-2-2-2zM9 17H7v-7h2v7zm4 0h-2V7h2v10zm4 0h-2v-4h2v4z\"/>\n",
              "    </g>\n",
              "</svg>\n",
              "  </button>\n",
              "\n",
              "<style>\n",
              "  .colab-df-quickchart {\n",
              "      --bg-color: #E8F0FE;\n",
              "      --fill-color: #1967D2;\n",
              "      --hover-bg-color: #E2EBFA;\n",
              "      --hover-fill-color: #174EA6;\n",
              "      --disabled-fill-color: #AAA;\n",
              "      --disabled-bg-color: #DDD;\n",
              "  }\n",
              "\n",
              "  [theme=dark] .colab-df-quickchart {\n",
              "      --bg-color: #3B4455;\n",
              "      --fill-color: #D2E3FC;\n",
              "      --hover-bg-color: #434B5C;\n",
              "      --hover-fill-color: #FFFFFF;\n",
              "      --disabled-bg-color: #3B4455;\n",
              "      --disabled-fill-color: #666;\n",
              "  }\n",
              "\n",
              "  .colab-df-quickchart {\n",
              "    background-color: var(--bg-color);\n",
              "    border: none;\n",
              "    border-radius: 50%;\n",
              "    cursor: pointer;\n",
              "    display: none;\n",
              "    fill: var(--fill-color);\n",
              "    height: 32px;\n",
              "    padding: 0;\n",
              "    width: 32px;\n",
              "  }\n",
              "\n",
              "  .colab-df-quickchart:hover {\n",
              "    background-color: var(--hover-bg-color);\n",
              "    box-shadow: 0 1px 2px rgba(60, 64, 67, 0.3), 0 1px 3px 1px rgba(60, 64, 67, 0.15);\n",
              "    fill: var(--button-hover-fill-color);\n",
              "  }\n",
              "\n",
              "  .colab-df-quickchart-complete:disabled,\n",
              "  .colab-df-quickchart-complete:disabled:hover {\n",
              "    background-color: var(--disabled-bg-color);\n",
              "    fill: var(--disabled-fill-color);\n",
              "    box-shadow: none;\n",
              "  }\n",
              "\n",
              "  .colab-df-spinner {\n",
              "    border: 2px solid var(--fill-color);\n",
              "    border-color: transparent;\n",
              "    border-bottom-color: var(--fill-color);\n",
              "    animation:\n",
              "      spin 1s steps(1) infinite;\n",
              "  }\n",
              "\n",
              "  @keyframes spin {\n",
              "    0% {\n",
              "      border-color: transparent;\n",
              "      border-bottom-color: var(--fill-color);\n",
              "      border-left-color: var(--fill-color);\n",
              "    }\n",
              "    20% {\n",
              "      border-color: transparent;\n",
              "      border-left-color: var(--fill-color);\n",
              "      border-top-color: var(--fill-color);\n",
              "    }\n",
              "    30% {\n",
              "      border-color: transparent;\n",
              "      border-left-color: var(--fill-color);\n",
              "      border-top-color: var(--fill-color);\n",
              "      border-right-color: var(--fill-color);\n",
              "    }\n",
              "    40% {\n",
              "      border-color: transparent;\n",
              "      border-right-color: var(--fill-color);\n",
              "      border-top-color: var(--fill-color);\n",
              "    }\n",
              "    60% {\n",
              "      border-color: transparent;\n",
              "      border-right-color: var(--fill-color);\n",
              "    }\n",
              "    80% {\n",
              "      border-color: transparent;\n",
              "      border-right-color: var(--fill-color);\n",
              "      border-bottom-color: var(--fill-color);\n",
              "    }\n",
              "    90% {\n",
              "      border-color: transparent;\n",
              "      border-bottom-color: var(--fill-color);\n",
              "    }\n",
              "  }\n",
              "</style>\n",
              "\n",
              "  <script>\n",
              "    async function quickchart(key) {\n",
              "      const quickchartButtonEl =\n",
              "        document.querySelector('#' + key + ' button');\n",
              "      quickchartButtonEl.disabled = true;  // To prevent multiple clicks.\n",
              "      quickchartButtonEl.classList.add('colab-df-spinner');\n",
              "      try {\n",
              "        const charts = await google.colab.kernel.invokeFunction(\n",
              "            'suggestCharts', [key], {});\n",
              "      } catch (error) {\n",
              "        console.error('Error during call to suggestCharts:', error);\n",
              "      }\n",
              "      quickchartButtonEl.classList.remove('colab-df-spinner');\n",
              "      quickchartButtonEl.classList.add('colab-df-quickchart-complete');\n",
              "    }\n",
              "    (() => {\n",
              "      let quickchartButtonEl =\n",
              "        document.querySelector('#df-da800391-443f-4596-98f6-5a52e338bc2b button');\n",
              "      quickchartButtonEl.style.display =\n",
              "        google.colab.kernel.accessAllowed ? 'block' : 'none';\n",
              "    })();\n",
              "  </script>\n",
              "</div>\n",
              "\n",
              "    </div>\n",
              "  </div>\n"
            ],
            "application/vnd.google.colaboratory.intrinsic+json": {
              "type": "dataframe",
              "summary": "{\n  \"name\": \"df\",\n  \"rows\": 8,\n  \"fields\": [\n    {\n      \"column\": \"customer_id\",\n      \"properties\": {\n        \"dtype\": \"number\",\n        \"std\": 3288.5527342930286,\n        \"min\": 1.0,\n        \"max\": 9569.0,\n        \"num_unique_values\": 8,\n        \"samples\": [\n          282.91096248301807,\n          253.0,\n          9569.0\n        ],\n        \"semantic_type\": \"\",\n        \"description\": \"\"\n      }\n    },\n    {\n      \"column\": \"postal_code\",\n      \"properties\": {\n        \"dtype\": \"number\",\n        \"std\": 33821.86883684793,\n        \"min\": 1105.0,\n        \"max\": 99812.0,\n        \"num_unique_values\": 8,\n        \"samples\": [\n          52225.007115548004,\n          48295.0,\n          9416.0\n        ],\n        \"semantic_type\": \"\",\n        \"description\": \"\"\n      }\n    },\n    {\n      \"column\": \"order_id\",\n      \"properties\": {\n        \"dtype\": \"number\",\n        \"std\": 2962.5613842109165,\n        \"min\": 1001.0,\n        \"max\": 9569.0,\n        \"num_unique_values\": 8,\n        \"samples\": [\n          5107.539450308287,\n          5577.0,\n          9569.0\n        ],\n        \"semantic_type\": \"\",\n        \"description\": \"\"\n      }\n    },\n    {\n      \"column\": \"customer_id.1\",\n      \"properties\": {\n        \"dtype\": \"number\",\n        \"std\": 3288.5527342930286,\n        \"min\": 1.0,\n        \"max\": 9569.0,\n        \"num_unique_values\": 8,\n        \"samples\": [\n          282.91096248301807,\n          253.0,\n          9569.0\n        ],\n        \"semantic_type\": \"\",\n        \"description\": \"\"\n      }\n    },\n    {\n      \"column\": \"order_id.1\",\n      \"properties\": {\n        \"dtype\": \"number\",\n        \"std\": 2962.5613842109165,\n        \"min\": 1001.0,\n        \"max\": 9569.0,\n        \"num_unique_values\": 8,\n        \"samples\": [\n          5107.539450308287,\n          5577.0,\n          9569.0\n        ],\n        \"semantic_type\": \"\",\n        \"description\": \"\"\n      }\n    },\n    {\n      \"column\": \"product_id\",\n      \"properties\": {\n        \"dtype\": \"number\",\n        \"std\": 3350.7003401944285,\n        \"min\": 3.6948050196407825,\n        \"max\": 9569.0,\n        \"num_unique_values\": 8,\n        \"samples\": [\n          106.73664959765911,\n          107.0,\n          9569.0\n        ],\n        \"semantic_type\": \"\",\n        \"description\": \"\"\n      }\n    },\n    {\n      \"column\": \"quantity\",\n      \"properties\": {\n        \"dtype\": \"number\",\n        \"std\": 3361.5992322322386,\n        \"min\": 1.0,\n        \"max\": 9513.0,\n        \"num_unique_values\": 6,\n        \"samples\": [\n          9513.0,\n          3.453379585829917,\n          20.0\n        ],\n        \"semantic_type\": \"\",\n        \"description\": \"\"\n      }\n    },\n    {\n      \"column\": \"product_id.1\",\n      \"properties\": {\n        \"dtype\": \"number\",\n        \"std\": 3350.7003401944285,\n        \"min\": 3.6948050196407825,\n        \"max\": 9569.0,\n        \"num_unique_values\": 8,\n        \"samples\": [\n          106.73664959765911,\n          107.0,\n          9569.0\n        ],\n        \"semantic_type\": \"\",\n        \"description\": \"\"\n      }\n    }\n  ]\n}"
            }
          },
          "metadata": {},
          "execution_count": 197
        }
      ]
    },
    {
      "cell_type": "code",
      "source": [
        "df.isnull().sum()"
      ],
      "metadata": {
        "colab": {
          "base_uri": "https://localhost:8080/"
        },
        "id": "Of0-JisZijoy",
        "outputId": "537d3204-f50f-414a-a72b-055741c71398"
      },
      "execution_count": 198,
      "outputs": [
        {
          "output_type": "execute_result",
          "data": {
            "text/plain": [
              "customer_id           0\n",
              "customer_name         0\n",
              "address_line_1      121\n",
              "city                 53\n",
              "state_province        0\n",
              "postal_code         153\n",
              "order_id              0\n",
              "order_date          257\n",
              "customer_id.1         0\n",
              "order_id.1            0\n",
              "product_id            0\n",
              "quantity             56\n",
              "product_id.1          0\n",
              "product_name          0\n",
              "product_price         0\n",
              "total_amount         56\n",
              "order_year_month    257\n",
              "order_month         257\n",
              "dtype: int64"
            ]
          },
          "metadata": {},
          "execution_count": 198
        }
      ]
    },
    {
      "cell_type": "markdown",
      "metadata": {
        "id": "e_hngnjB7xNB"
      },
      "source": [
        "## Prepare Data\n",
        "\n",
        "➡️ Assignment Tasks\n",
        "- Convert any numbers into the correct datatype if they are not already numeric\n",
        "- Convert any character variables in to factors if they are appropriate for that datatype\n",
        "- Check for outliers.   Remove any outliers that appear to be mistakes\n",
        "- Remove rows with empty (NULL) values\n",
        "- Identify at least one variable with a missing value that can be imputed.   Fill in those empty values.\n",
        "- Add a \"total_amount\" variable based on the quantity and price"
      ]
    },
    {
      "cell_type": "code",
      "execution_count": 199,
      "metadata": {
        "vscode": {
          "languageId": "plaintext"
        },
        "id": "0e8KqEXm7xNB",
        "colab": {
          "base_uri": "https://localhost:8080/"
        },
        "outputId": "5680ec67-ffe2-4162-c737-b4ce584d2fe1"
      },
      "outputs": [
        {
          "output_type": "stream",
          "name": "stderr",
          "text": [
            "<ipython-input-199-4552d339c777>:4: FutureWarning: The default value of regex will change from True to False in a future version. In addition, single character regular expressions will *not* be treated as literal strings when regex=True.\n",
            "  df['product_price'] = df['product_price'].str.replace('$', '').astype(float)\n"
          ]
        }
      ],
      "source": [
        "#data preparation\n",
        "df['postal_code'] = df['postal_code'].astype('Int64')\n",
        "df['quantity'] = df['quantity'].astype('Int64')\n",
        "df['product_price'] = df['product_price'].str.replace('$', '').astype(float)\n",
        "df['total_amount'] = df['total_amount'].str.replace('[$,]', '', regex=True).astype(float)\n",
        "\n",
        "df['state_province'] = df['state_province'].astype('category')\n",
        "df['city'] = df['city'].astype('category')"
      ]
    },
    {
      "cell_type": "code",
      "execution_count": 200,
      "metadata": {
        "vscode": {
          "languageId": "plaintext"
        },
        "id": "jt96c5Zp7xNC"
      },
      "outputs": [],
      "source": [
        "#outlier check and cleanup\n",
        "\n",
        "def remove_outliers(df, threshold=3):\n",
        "    numeric_cols = df.select_dtypes(include=[np.number]).columns\n",
        "    z_scores = df[numeric_cols].apply(lambda x: np.abs((x - x.mean()) / x.std()))\n",
        "    outlier_mask = z_scores > threshold\n",
        "    return df[~outlier_mask.any(axis=1)]\n",
        "\n",
        "df = remove_outliers(df)"
      ]
    },
    {
      "cell_type": "code",
      "source": [
        "#impute values\n",
        "\n",
        "median_quantity = df['quantity'].median()\n",
        "df['quantity'].fillna(median_quantity, inplace=True)"
      ],
      "metadata": {
        "colab": {
          "base_uri": "https://localhost:8080/"
        },
        "id": "89KwhkG6e2BX",
        "outputId": "5046cb32-42c3-4d37-dc71-133766b0ccf9"
      },
      "execution_count": 201,
      "outputs": [
        {
          "output_type": "stream",
          "name": "stderr",
          "text": [
            "<ipython-input-201-23ad9e0ba61d>:4: SettingWithCopyWarning: \n",
            "A value is trying to be set on a copy of a slice from a DataFrame\n",
            "\n",
            "See the caveats in the documentation: https://pandas.pydata.org/pandas-docs/stable/user_guide/indexing.html#returning-a-view-versus-a-copy\n",
            "  df['quantity'].fillna(median_quantity, inplace=True)\n"
          ]
        }
      ]
    },
    {
      "cell_type": "code",
      "source": [
        "df.dropna(inplace=True)"
      ],
      "metadata": {
        "colab": {
          "base_uri": "https://localhost:8080/"
        },
        "id": "Rw56io1w2yDR",
        "outputId": "4d20cec4-d6ac-4b44-c9d4-b6f8b8c5bf1d"
      },
      "execution_count": 202,
      "outputs": [
        {
          "output_type": "stream",
          "name": "stderr",
          "text": [
            "<ipython-input-202-c64f9f573c18>:1: SettingWithCopyWarning: \n",
            "A value is trying to be set on a copy of a slice from a DataFrame\n",
            "\n",
            "See the caveats in the documentation: https://pandas.pydata.org/pandas-docs/stable/user_guide/indexing.html#returning-a-view-versus-a-copy\n",
            "  df.dropna(inplace=True)\n"
          ]
        }
      ]
    },
    {
      "cell_type": "markdown",
      "source": [
        "**Explanantion to imputing:** As we can see in the profiling section, the data address_line_1, city, postal_code, order_date, quantity, total_amount, order_year_month, and order_month has missing values. I'm going to only inpute values with one variable (quantity) so it doesn't affect the data strongly. I will take the median and replace all those values with that data point."
      ],
      "metadata": {
        "id": "9zxfxH4BiH3o"
      }
    },
    {
      "cell_type": "code",
      "source": [
        "#total amount column\n",
        "df['total_amount_calculation'] = df['quantity'] * df['product_price']"
      ],
      "metadata": {
        "colab": {
          "base_uri": "https://localhost:8080/"
        },
        "id": "t4RJXquNjlDe",
        "outputId": "65685a61-0a5d-422c-9e00-690c08791cf9"
      },
      "execution_count": 203,
      "outputs": [
        {
          "output_type": "stream",
          "name": "stderr",
          "text": [
            "<ipython-input-203-9cff94fafece>:2: SettingWithCopyWarning: \n",
            "A value is trying to be set on a copy of a slice from a DataFrame.\n",
            "Try using .loc[row_indexer,col_indexer] = value instead\n",
            "\n",
            "See the caveats in the documentation: https://pandas.pydata.org/pandas-docs/stable/user_guide/indexing.html#returning-a-view-versus-a-copy\n",
            "  df['total_amount_calculation'] = df['quantity'] * df['product_price']\n"
          ]
        }
      ]
    },
    {
      "cell_type": "markdown",
      "metadata": {
        "id": "49m-unt07xNC"
      },
      "source": [
        "## Prepare Data - Continued\n",
        "\n",
        "➡️ Assignment Tasks\n",
        "- Create a variable called \"complete_customer_info\".   Use \"1\" for True and \"2\" for False.  All customer fields must be valid and not empty before this variable is True.\n",
        "- Create a bar chart showing the count of customers with complete informaiton versus incomplete information"
      ]
    },
    {
      "cell_type": "code",
      "execution_count": 204,
      "metadata": {
        "vscode": {
          "languageId": "plaintext"
        },
        "id": "tXVfpEjv7xNC",
        "colab": {
          "base_uri": "https://localhost:8080/"
        },
        "outputId": "4b6ea9ac-ad90-4e5c-e05a-d86a0b332152"
      },
      "outputs": [
        {
          "output_type": "stream",
          "name": "stderr",
          "text": [
            "<ipython-input-204-6139aad21f60>:4: SettingWithCopyWarning: \n",
            "A value is trying to be set on a copy of a slice from a DataFrame.\n",
            "Try using .loc[row_indexer,col_indexer] = value instead\n",
            "\n",
            "See the caveats in the documentation: https://pandas.pydata.org/pandas-docs/stable/user_guide/indexing.html#returning-a-view-versus-a-copy\n",
            "  df['complete_customer_info'] = (df[customer_fields].notnull().all(axis=1)).astype(int)\n"
          ]
        }
      ],
      "source": [
        "#create variable\n",
        "\n",
        "customer_fields = ['customer_id', 'customer_name', 'address_line_1', 'city', 'state_province', 'postal_code']\n",
        "df['complete_customer_info'] = (df[customer_fields].notnull().all(axis=1)).astype(int)"
      ]
    },
    {
      "cell_type": "code",
      "execution_count": 205,
      "metadata": {
        "vscode": {
          "languageId": "plaintext"
        },
        "id": "XjBzouCB7xNC",
        "colab": {
          "base_uri": "https://localhost:8080/",
          "height": 579
        },
        "outputId": "224ca21d-c37f-44bf-d2ba-4443d71251ef"
      },
      "outputs": [
        {
          "output_type": "stream",
          "name": "stderr",
          "text": [
            "<ipython-input-205-8e7ab8120809>:4: SettingWithCopyWarning: \n",
            "A value is trying to be set on a copy of a slice from a DataFrame.\n",
            "Try using .loc[row_indexer,col_indexer] = value instead\n",
            "\n",
            "See the caveats in the documentation: https://pandas.pydata.org/pandas-docs/stable/user_guide/indexing.html#returning-a-view-versus-a-copy\n",
            "  df['complete_customer_info'] = df[customer_fields].notnull().all(axis=1)\n"
          ]
        },
        {
          "output_type": "display_data",
          "data": {
            "text/plain": [
              "<Figure size 640x480 with 1 Axes>"
            ],
            "image/png": "[encoded data removed]"
          },
          "metadata": {}
        }
      ],
      "source": [
        "#create chart\n",
        "\n",
        "customer_fields = ['customer_id', 'customer_name', 'address_line_1', 'city', 'state_province', 'postal_code']\n",
        "df['complete_customer_info'] = df[customer_fields].notnull().all(axis=1)\n",
        "customer_info_counts = df['complete_customer_info'].value_counts()\n",
        "plt.bar(customer_info_counts.index.astype(str), customer_info_counts.values)\n",
        "plt.xlabel('Complete Customer Information')\n",
        "plt.ylabel('Count')\n",
        "plt.title('Count of Customers with Complete vs. Incomplete Information')\n",
        "plt.show()"
      ]
    },
    {
      "cell_type": "markdown",
      "source": [
        "**Explanation:** It's important to note that we removed rows with null values so all customers will have completly filled out values. If we performed this step earlier, we would return lots of customers with unfilled values. In this scenerio, this is a good sign because we have information about every customer."
      ],
      "metadata": {
        "id": "0HAlNAua20fU"
      }
    },
    {
      "cell_type": "markdown",
      "metadata": {
        "id": "KTwG-fEC7xND"
      },
      "source": [
        "## Prepare Data - Continued\n",
        "\n",
        "➡️ Assignment Tasks\n",
        "- Create seasonal buckets for Winter, Sprint, Summer, Fall\n",
        "- Create a chart to show revenue by season\n",
        "- Create a chart to show revenue by year"
      ]
    },
    {
      "cell_type": "code",
      "execution_count": 211,
      "metadata": {
        "vscode": {
          "languageId": "plaintext"
        },
        "id": "oUydq-5r7xND"
      },
      "outputs": [],
      "source": [
        "# Create seasonal buckets\n",
        "\n",
        "def get_season(month):\n",
        "    if month in ['December', 'January', 'February']:\n",
        "        return 'Winter'\n",
        "    elif month in ['March', 'April', 'May']:\n",
        "        return 'Spring'\n",
        "    elif month in ['June', 'July', 'August']:\n",
        "        return 'Summer'\n",
        "    else:\n",
        "        return 'Fall'\n",
        "\n",
        "df['season'] = df['order_month'].apply(get_season)"
      ]
    },
    {
      "cell_type": "code",
      "source": [
        "# Revenue by season\n",
        "seasonal_revenue = df.groupby('season')['total_amount_calculation'].sum()\n",
        "seasonal_revenue.plot(kind='bar', color=['blue', 'green', 'orange', 'red'])\n",
        "plt.xlabel('Season')\n",
        "plt.ylabel('Revenue ($)')\n",
        "plt.title('Revenue by Season')\n",
        "plt.xticks(rotation=0)\n",
        "plt.show()"
      ],
      "metadata": {
        "colab": {
          "base_uri": "https://localhost:8080/",
          "height": 472
        },
        "id": "8RzCofkh4R5Z",
        "outputId": "ebfe83b7-48ae-4fd7-ec77-3230b417c033"
      },
      "execution_count": 212,
      "outputs": [
        {
          "output_type": "display_data",
          "data": {
            "text/plain": [
              "<Figure size 640x480 with 1 Axes>"
            ],
            "image/png": "[encoded data removed]"
          },
          "metadata": {}
        }
      ]
    },
    {
      "cell_type": "code",
      "execution_count": 213,
      "metadata": {
        "vscode": {
          "languageId": "plaintext"
        },
        "id": "ZnHtbnAU7xND",
        "colab": {
          "base_uri": "https://localhost:8080/",
          "height": 472
        },
        "outputId": "e50376ac-be69-43fc-b37e-400b98402fd4"
      },
      "outputs": [
        {
          "output_type": "display_data",
          "data": {
            "text/plain": [
              "<Figure size 640x480 with 1 Axes>"
            ],
            "image/png": "[encoded data removed]"
          },
          "metadata": {}
        }
      ],
      "source": [
        "# Revenue over time\n",
        "yearly_revenue = df.groupby('order_year')['total_amount_calculation'].sum()\n",
        "yearly_revenue.plot(kind='bar', color='purple')\n",
        "plt.xlabel('Year')\n",
        "plt.ylabel('Revenue ($)')\n",
        "plt.title('Revenue by Year')\n",
        "plt.xticks(rotation=0)\n",
        "plt.show()"
      ]
    },
    {
      "cell_type": "markdown",
      "metadata": {
        "id": "RoXYkIHd7xND"
      },
      "source": [
        "## Prepare Data - Continued\n",
        "\n",
        "➡️ Assignment Tasks\n",
        "- Create a variable that will group product lines into \"Outdoor\" versus \"Indoor\" products.\n",
        "- Create a plot to show the correlation between outdoor/indoor versus season  "
      ]
    },
    {
      "cell_type": "code",
      "execution_count": 209,
      "metadata": {
        "vscode": {
          "languageId": "plaintext"
        },
        "id": "HgaJenhl7xND"
      },
      "outputs": [],
      "source": [
        "#indoor/outdoor variable\n",
        "\n",
        "def categorize_product(product_name):\n",
        "    outdoor_keywords = ['Great value Juice', 'Dove deodorant', 'Apple iPhone X', 'Samsung Galaxy Note 10']\n",
        "    for keyword in outdoor_keywords:\n",
        "        if keyword in product_name:\n",
        "            return 'Outdoor'\n",
        "    return 'Indoor'\n",
        "\n",
        "df['product_category'] = df['product_name'].apply(categorize_product)"
      ]
    },
    {
      "cell_type": "code",
      "source": [
        "plt.figure(figsize=(10, 6))\n",
        "pd.crosstab(df['season'], df['product_category']).plot(kind='bar', stacked=True)\n",
        "plt.title('Correlation between Outdoor/Indoor Products and Season')\n",
        "plt.xlabel('Season')\n",
        "plt.ylabel('Frequency')\n",
        "plt.xticks(rotation=45)\n",
        "plt.legend(title='Product Category')\n",
        "plt.show()"
      ],
      "metadata": {
        "colab": {
          "base_uri": "https://localhost:8080/",
          "height": 527
        },
        "id": "FNDdpQR94zsJ",
        "outputId": "61b20395-1fb0-4f9f-9b7b-cb3db8122d26"
      },
      "execution_count": 210,
      "outputs": [
        {
          "output_type": "display_data",
          "data": {
            "text/plain": [
              "<Figure size 1000x600 with 0 Axes>"
            ]
          },
          "metadata": {}
        },
        {
          "output_type": "display_data",
          "data": {
            "text/plain": [
              "<Figure size 640x480 with 1 Axes>"
            ],
            "image/png": "[encoded data removed]"
          },
          "metadata": {}
        }
      ]
    }
  ],
  "metadata": {
    "language_info": {
      "name": "python"
    },
    "colab": {
      "provenance": [],
      "include_colab_link": true
    },
    "kernelspec": {
      "name": "python3",
      "display_name": "Python 3"
    }
  },
  "nbformat": 4,
  "nbformat_minor": 0
}